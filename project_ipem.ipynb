{
 "cells": [
  {
   "cell_type": "code",
   "execution_count": 3,
   "id": "4cdd1fa3-822f-4b93-b6f2-1f041314e2cf",
   "metadata": {},
   "outputs": [
    {
     "name": "stdin",
     "output_type": "stream",
     "text": [
      "Enter number of students:  2\n"
     ]
    },
    {
     "name": "stdout",
     "output_type": "stream",
     "text": [
      "\n",
      "Entering data for Student 1\n"
     ]
    },
    {
     "name": "stdin",
     "output_type": "stream",
     "text": [
      "Enter student name:  ram\n",
      "Enter marks (0-100):  56\n"
     ]
    },
    {
     "name": "stdout",
     "output_type": "stream",
     "text": [
      "ram has scored 56.0 and received Grade: F\n",
      "\n",
      "Entering data for Student 2\n"
     ]
    },
    {
     "name": "stdin",
     "output_type": "stream",
     "text": [
      "Enter student name:  ravi\n",
      "Enter marks (0-100):  58\n"
     ]
    },
    {
     "name": "stdout",
     "output_type": "stream",
     "text": [
      "ravi has scored 58.0 and received Grade: F\n",
      "\n",
      "All student data saved to 'student_grades.txt'\n"
     ]
    }
   ],
   "source": [
    "def calculate_grade(marks):\n",
    "    if marks >= 90:\n",
    "        return 'A'\n",
    "    elif marks >= 80:\n",
    "        return 'B'\n",
    "    elif marks >= 70:\n",
    "        return 'C'\n",
    "    elif marks >= 60:\n",
    "        return 'D'\n",
    "    else:\n",
    "        return 'F'\n",
    "\n",
    "file_name = \"student_grades.txt\"\n",
    "with open(file_name, \"w\") as file:\n",
    "    file.write(\"Student Grade Report\\n\")\n",
    "    file.write(\"\\n\")\n",
    "num_students = int(input(\"Enter number of students: \"))\n",
    "for i in range(num_students):\n",
    "    print(f\"\\nEntering data for Student {i + 1}\")\n",
    "    name = input(\"Enter student name: \")\n",
    "    marks = float(input(\"Enter marks (0-100): \"))\n",
    "    if marks < 0 or marks > 100:\n",
    "        print(\"Invalid marks! Please enter between 0 and 100.\")\n",
    "        continue\n",
    "\n",
    "    grade = calculate_grade(marks)\n",
    "    print(f\"{name} has scored {marks} and received Grade: {grade}\")\n",
    "    with open(file_name, \"a\") as file:\n",
    "        file.write(f\"{name} - Marks: {marks} - Grade: {grade}\\n\")\n",
    "\n",
    "print(\"\\nAll student data saved to 'student_grades.txt'\")\n"
   ]
  },
  {
   "cell_type": "code",
   "execution_count": 4,
   "id": "b351db1d-c5b1-4fd4-84b4-47ccac785bc4",
   "metadata": {},
   "outputs": [],
   "source": [
    "import pandas as pd\n",
    "import os\n",
    "\n",
    "CSV_FILE = 'employees.csv'\n",
    "\n",
    "# Create CSV with headers if not exists\n",
    "if not os.path.exists(CSV_FILE):\n",
    "    pd.DataFrame(columns=['id', 'name', 'department', 'salary']).to_csv(CSV_FILE, index=False)\n",
    "\n",
    "def load_data():\n",
    "    return pd.read_csv(CSV_FILE)\n",
    "\n",
    "def save_data(df):\n",
    "    df.to_csv(CSV_FILE, index=False)\n",
    "\n",
    "# CREATE\n",
    "def add_employee(emp_id, name, department, salary):\n",
    "    df = load_data()\n",
    "    if emp_id in df['id'].values:\n",
    "        print(\"Employee ID already exists.\")\n",
    "        return\n",
    "    new_employee = pd.DataFrame([[emp_id, name, department, salary]], columns=df.columns)\n",
    "    df = pd.concat([df, new_employee], ignore_index=True)\n",
    "    save_data(df)\n",
    "    print(\"Employee added successfully.\")\n",
    "\n",
    "# READ\n",
    "def list_employees():\n",
    "    df = load_data()\n",
    "    print(df)\n",
    "\n",
    "# UPDATE\n",
    "def update_employee(emp_id, name=None, department=None, salary=None):\n",
    "    df = load_data()\n",
    "    if emp_id not in df['id'].values:\n",
    "        print(\"Employee not found.\")\n",
    "        return\n",
    "    idx = df.index[df['id'] == emp_id][0]\n",
    "    if name:\n",
    "        df.at[idx, 'name'] = name\n",
    "    if department:\n",
    "        df.at[idx, 'department'] = department\n",
    "    if salary:\n",
    "        df.at[idx, 'salary'] = salary\n",
    "    save_data(df)\n",
    "    print(\"Employee updated successfully.\")\n",
    "\n",
    "# DELETE\n",
    "def delete_employee(emp_id):\n",
    "    df = load_data()\n",
    "    df = df[df['id'] != emp_id]\n",
    "    save_data(df)\n",
    "    print(\"Employee deleted successfully.\")\n",
    "\n",
    "# FILTER\n",
    "def filter_employees(name=None, department=None, min_salary=None, max_salary=None):\n",
    "    df = load_data()\n",
    "    if name:\n",
    "        df = df[df['name'].str.contains(name, case=False, na=False)]\n",
    "    if department:\n",
    "        df = df[df['department'].str.contains(department, case=False, na=False)]\n",
    "    if min_salary:\n",
    "        df = df[df['salary'] >= min_salary]\n",
    "    if max_salary:\n",
    "        df = df[df['salary'] <= max_salary]\n",
    "    print(df)\n"
   ]
  },
  {
   "cell_type": "code",
   "execution_count": 5,
   "id": "68c8ae51-6f35-489b-b4f0-fd31937c09d5",
   "metadata": {},
   "outputs": [
    {
     "name": "stdout",
     "output_type": "stream",
     "text": [
      "Employee added successfully.\n",
      "   id         name department  salary\n",
      "0   4  Alice Brown  Marketing   62000\n",
      "Employee not found.\n",
      "Employee deleted successfully.\n",
      "Empty DataFrame\n",
      "Columns: [id, name, department, salary]\n",
      "Index: []\n"
     ]
    }
   ],
   "source": [
    "add_employee(4, 'Alice Brown', 'Marketing', 62000)\n",
    "list_employees()\n",
    "update_employee(2, salary=80000)\n",
    "delete_employee(1)\n",
    "filter_employees(department='IT', min_salary=70000)\n"
   ]
  },
  {
   "cell_type": "code",
   "execution_count": null,
   "id": "7550748f-6b83-4c5c-82c3-443bc9997e27",
   "metadata": {},
   "outputs": [],
   "source": []
  }
 ],
 "metadata": {
  "kernelspec": {
   "display_name": "Python 3 (ipykernel)",
   "language": "python",
   "name": "python3"
  },
  "language_info": {
   "codemirror_mode": {
    "name": "ipython",
    "version": 3
   },
   "file_extension": ".py",
   "mimetype": "text/x-python",
   "name": "python",
   "nbconvert_exporter": "python",
   "pygments_lexer": "ipython3",
   "version": "3.12.3"
  }
 },
 "nbformat": 4,
 "nbformat_minor": 5
}
